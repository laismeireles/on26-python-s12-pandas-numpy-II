{
 "cells": [
  {
   "cell_type": "markdown",
   "metadata": {
    "id": "aMKnRGLzS_me"
   },
   "source": [
    "# S12 -Tratamento de dados utilizando pandas e numpy - parte 2\n",
    "\n",
    "**Objetivo da aula:** Introduzir o conceito de visualização de dados e como utilizar consultas, filtros e agrupamentos em Pandas (com um pouco de matploblib) para a geração de gráficos com insights importantes ao contexto da análise. No fim, introduzir o conceito da biblioteca Numpy utilizando as duas bibliotecas (Numpy e Pandas) em um contexto de análise de dados.\n",
    "\n",
    "O dataset utilizado é o mesmo da aula anterior: 'Titanic'.\n"
   ]
  },
  {
   "cell_type": "markdown",
   "metadata": {
    "id": "PQilYsBgS_ml"
   },
   "source": [
    "## Pensamento analítico\n",
    "\n",
    "A capacidade analítica já é considerada um requisito básico entre determinados cargos e essa é uma habilidade fundamental para desenvolvedores e analistas de dados.\n",
    "\n",
    "A capacidade analítica está relacionada a outra qualificação de destaque no mercado atualmente: a tomada de decisão. Profissionais que entendem o que os dados mostram conseguem tomar decisões certeiras diante da estratégia do negócio pois embasam as suas decisões sempre que precisam dar passos importantes, projetando cenários e interpretando dados.\n",
    "\n",
    "### Como desenvolver a Capacidade Analítica?\n",
    "\n",
    "    - Desenvolver senso crítico na análise de situações\n",
    "    - Se expor a diferentes assuntos e ideias\n",
    "    - Fazer cursos relacionados à análise de dados\n",
    "    - Entender tipos de análises de dados\n",
    "    - Criar uma visão mais abrangente da sua área\n",
    "\n",
    "\n",
    "\n",
    "[Fonte](https://blog.somostera.com/lideranca-baseada-em-dados/capacidade-analitica)"
   ]
  },
  {
   "cell_type": "markdown",
   "metadata": {
    "id": "vZpmn9A8S_ml"
   },
   "source": [
    "**Dinâmica**: 20 minutos\n",
    "\n",
    "***Quais são os insights que gostaríamos de obter a partir dos dados que obtemos do dataset?***\n",
    "\n",
    "**Exemplo:** % de sobrevivência dada a sua classe, sexo, preço da passagem, idade, etc\n"
   ]
  },
  {
   "cell_type": "markdown",
   "metadata": {
    "id": "e_UiUp01S_mm"
   },
   "source": [
    "#### Visualização de dados\n",
    "\n",
    "O conceito de visualização de dados é bem simples. Ela nada mais é que a representação gráfica, estática ou em movimento, da análise de dados e indicadores de natureza variada.\n",
    "\n",
    "[Fonte](https://www.oncase.com.br/blog/data-analytics/visualizacao-de-dados/)\n",
    "\n",
    "[Fonte](https://www.cursospm3.com.br/blog/data-visualization-o-que-e-dataviz-e-importancia-para-produto/)\n",
    "\n",
    "[Fonte](https://www.linkedin.com/pulse/por-que-visualiza%C3%A7%C3%A3o-de-dados-%C3%A9-importante-para-voc%C3%AA-e-veiga-r-/?originalSubdomain=pt)\n",
    "\n",
    "[Importância da visualização de dados na era do Big Data](https://lume.ufrgs.br/handle/10183/169109)\n",
    "\n",
    "&nbsp;\n",
    "\n",
    "### Quarteto de Anscombe\n",
    "[Quarteto de Anscombe](https://acervolima.com/quarteto-de-anscombe/)\n",
    "\n",
    "O quarteto de Anscombe (Anscombe, 1973) é uma maneira de ilustrar a importância de visualizações na análise de dados. Deve-se sempre olhar um conjunto de dados graficamente antes de começar a qualquer análise. Em especial, são ilustrados diversos contextos nos quais as propriedades estatísticas básicas para descrever conjuntos de dados são inadequadas.\n",
    "\n",
    "[Fonte](https://storopoli.io/Estatistica/aux-Anscombe.html)\n",
    "\n",
    "[Fonte](https://spacedata.com.br/quarteto-de-anscombe-porque-voce-deve-sempre-visualizar-seus-dados/)"
   ]
  },
  {
   "cell_type": "markdown",
   "metadata": {
    "id": "_6BQoLOYS_m7"
   },
   "source": [
    "## Importância de gráficos na visualização de dados\n",
    "\n",
    "Gráficos se  propõem a diferentes usos: exploração, descoberta, interpretação, diagnóstico, comunicação, apresentação, destaque, clareza, contar uma história.\n",
    "\n",
    "Os gráficos são recursos visuais muito utilizados para facilitar a leitura e compreensão das informações e divulgação de pesquisas em jornais, revistas, panfletos, livros e televisão.\n",
    "\n",
    "[Fonte: Principais tipos de gráficos para educação básica](https://educa.ibge.gov.br/professores/educa-recursos/20773-tipos-de-graficos-no-ensino.html#:~:text=Os%20gr%C3%A1ficos%20s%C3%A3o%20recursos%20visuais,%2C%20panfletos%2C%20livros%20e%20televis%C3%A3o.)\n",
    "\n",
    "\n",
    "---\n",
    "\n",
    "Gráficos de colunas\n",
    "![](/S12/conteudo_e_codigo/images/colunas.png)\n",
    "[Fonte](https://educa.ibge.gov.br/professores/educa-recursos/20773-tipos-de-graficos-no-ensino.html#:~:text=Os%20gr%C3%A1ficos%20s%C3%A3o%20recursos%20visuais,%2C%20panfletos%2C%20livros%20e%20televis%C3%A3o.)\n",
    "\n",
    "Gráficos de barras\n",
    "![](/S12/conteudo_e_codigo/images/barras.png)\n",
    "[Fonte](https://educa.ibge.gov.br/professores/educa-recursos/20773-tipos-de-graficos-no-ensino.html#:~:text=Os%20gr%C3%A1ficos%20s%C3%A3o%20recursos%20visuais,%2C%20panfletos%2C%20livros%20e%20televis%C3%A3o.)\n",
    "\n",
    "Gráficos de linhas\n",
    "![](/S12/conteudo_e_codigo/images/linhas.png)\n",
    "[Fonte](https://educa.ibge.gov.br/professores/educa-recursos/20773-tipos-de-graficos-no-ensino.html#:~:text=Os%20gr%C3%A1ficos%20s%C3%A3o%20recursos%20visuais,%2C%20panfletos%2C%20livros%20e%20televis%C3%A3o.)\n",
    "\n"
   ]
  },
  {
   "cell_type": "code",
   "execution_count": null,
   "metadata": {
    "id": "_eorJ3GNS_mm",
    "outputId": "14f2b233-cc14-4f8a-a041-98b4cb90d2cc"
   },
   "outputs": [],
   "source": [
    "import pandas as pd\n",
    "\n",
    "df = pd.read_csv(\"data/titanic.csv\")\n",
    "df"
   ]
  },
  {
   "cell_type": "markdown",
   "metadata": {
    "id": "boKqOy_KS_ms"
   },
   "source": [
    "Dever da aula passada: substituir as colunas em inglês pelas suas traduções em PT-BR. Um dos objetivos dessa aula é realizar consultas e filtragens, então as colunas em PT podem ajudar no entendimento."
   ]
  },
  {
   "cell_type": "code",
   "execution_count": null,
   "metadata": {
    "id": "ZuehjTU7S_mt",
    "outputId": "6ce66e1f-01d4-4889-f97f-50d5edae71e6"
   },
   "outputs": [],
   "source": [
    "# Resolução\n",
    "\n",
    "traducoes = {\n",
    "    'PassengerId': 'IdPassageiro',\n",
    "    'Survived': 'Sobreviveu', # 0 = Não, 1 = Sim\n",
    "    'Pclass': 'Classe', # 1, 2, 3\n",
    "    'Name': 'Nome',\n",
    "    'Sex': 'Sexo',\n",
    "    'Age': 'Idade',\n",
    "    'SibSp': 'NumeroIrmaos',\n",
    "    'Parch':  'NumeroPais',\n",
    "    'Ticket': 'NumeroTicket',\n",
    "    'Fare': 'PrecoTicket',\n",
    "    'Cabin' : 'NumeroCabine',\n",
    "    'Embarked': 'PortoEmbarcacao' # C = Cherbourg, Q = Queenstown, S = Southampton\n",
    "}\n",
    "\n",
    "# result = [(d['color'], d['value']) for d in dictionarylist]\n",
    "\n",
    "novas_colunas = []\n",
    "for chave, valor in traducoes.items():\n",
    "    novas_colunas.append(valor)\n",
    "\n",
    "print(novas_colunas)"
   ]
  },
  {
   "cell_type": "code",
   "execution_count": null,
   "metadata": {
    "id": "h6tvl5HPS_mw",
    "outputId": "4639f186-8484-4780-f4dc-0a29f3cc759e"
   },
   "outputs": [],
   "source": [
    "df.columns = novas_colunas\n",
    "df"
   ]
  },
  {
   "cell_type": "markdown",
   "metadata": {
    "id": "JehELGwYS_mx"
   },
   "source": [
    "## Pandas\n",
    "\n",
    "### Consultas e filtros\n",
    "### Filtros\n",
    "\n",
    "A biblioteca pandas fornece diferentes maneiras de filtrar por valores de colunas, além de permitir a combinação de diferentes técnicas oferecidas, de forma a nos permitir manipular os dados com mais facilidade fornecendo subsets com as condições requeridas.\n",
    "\n",
    "\n",
    "[Fonte](https://sparkbyexamples.com/pandas/pandas-filter-by-column-value/)\n"
   ]
  },
  {
   "cell_type": "code",
   "execution_count": null,
   "metadata": {
    "id": "gZKfzWYAS_mx",
    "outputId": "cdc7a73b-0f3b-42ce-cdf2-f8322b15e686"
   },
   "outputs": [],
   "source": [
    "# dataframe originial\n",
    "df"
   ]
  },
  {
   "cell_type": "code",
   "execution_count": null,
   "metadata": {
    "id": "xzHvkQRrS_mx",
    "outputId": "ca4d371d-386e-433d-e49b-6e5a6749f767"
   },
   "outputs": [],
   "source": [
    "# Vamos começar com um filtro baseado em uma única condição: idade > 30\n",
    "df_filtrado = df[df['Idade'] > 30]\n",
    "df_filtrado.shape"
   ]
  },
  {
   "cell_type": "code",
   "execution_count": null,
   "metadata": {
    "id": "ZFZ7LOT6S_my",
    "outputId": "e41628cd-501b-4009-d643-c91f7fe9d7e4"
   },
   "outputs": [],
   "source": [
    "# Agora um filtro com múltiplas condições\n",
    "df_filtrado = df[(df['Idade'] > 30) & (df['Sexo'] == 'F')]\n",
    "df_filtrado.shape"
   ]
  },
  {
   "cell_type": "code",
   "execution_count": null,
   "metadata": {
    "id": "BpueQ0G0S_my",
    "outputId": "ba8ca09f-6788-4332-9a11-786aa02700e4"
   },
   "outputs": [],
   "source": [
    "# Selecionando entradas que possuem uma determinada 'string'\n",
    "# Vamos procurar por nomes que possuam 'Good'\n",
    "\n",
    "df_filtrado = df[df['Nome'].str.contains('Good')]\n",
    "df_filtrado.shape"
   ]
  },
  {
   "cell_type": "code",
   "execution_count": null,
   "metadata": {
    "id": "ODR1BQRyS_my",
    "outputId": "a2289b09-9eb0-460f-da3b-265bfaf400fb"
   },
   "outputs": [],
   "source": [
    "# Por último, utilizando a função isin()\n",
    "df_filtrado = df[df['PortoEmbarcacao'].isin(['Q'])]\n",
    "df_filtrado.head()"
   ]
  },
  {
   "cell_type": "markdown",
   "metadata": {
    "id": "8gULcYPzS_mz"
   },
   "source": [
    "### Consultas e filtros\n",
    "### Consultas\n",
    "\n",
    "Pandas também possui a função query(), que realiza consultas no DataFrame através de uma expressão booleana (T/F).\n",
    "\n",
    "**Docs**: [https://pandas.pydata.org/docs/reference/api/pandas.DataFrame.query.html]"
   ]
  },
  {
   "cell_type": "code",
   "execution_count": null,
   "metadata": {
    "id": "W-Ktv45VS_mz",
    "outputId": "00f9464e-df1b-4cd2-c0b3-30eac23016f1"
   },
   "outputs": [],
   "source": [
    "# Para ilustrar essa função, vamos procurar por pessoas que estavam na classe 3:\n",
    "df_consulta = df.query(\"Classe == 3\")\n",
    "df_consulta.head()\n"
   ]
  },
  {
   "cell_type": "code",
   "execution_count": null,
   "metadata": {
    "id": "uVSmQ1zeS_mz",
    "outputId": "555cf64e-c5a6-4b3d-d69a-89fb77dd1012"
   },
   "outputs": [],
   "source": [
    "# A função query também pode ser utilizada para filtrar baseada em uma lista de valores\n",
    "df_consulta = df.query(\"Classe in (1,3)\")\n",
    "df_consulta.head()"
   ]
  },
  {
   "cell_type": "markdown",
   "metadata": {
    "id": "zu1HgPXrS_m0"
   },
   "source": [
    "### Relembrar Slicing e introduzir conceitos de loc e iloc:\n",
    "\n",
    "### Slicing: obter apenas uma parte do dataset\n"
   ]
  },
  {
   "cell_type": "code",
   "execution_count": null,
   "metadata": {
    "id": "H3dlaegrS_m0",
    "outputId": "1c7ad974-196c-40db-8eb7-fa78f65ff480"
   },
   "outputs": [],
   "source": [
    "# fatiando valores\n",
    "df[:5]"
   ]
  },
  {
   "cell_type": "markdown",
   "metadata": {
    "id": "41Zgqt2FS_m3"
   },
   "source": [
    "#### LOC e ILOC\n",
    "\n",
    "**loc**: Filtra informações no Dataframe\n",
    "\n",
    "```Python\n",
    "df.loc[linhas,colunas]\n",
    "```"
   ]
  },
  {
   "cell_type": "code",
   "execution_count": null,
   "metadata": {
    "id": "cr5Lt68uS_m4",
    "outputId": "8786bf85-9a78-4ff2-a2e5-12a514640843"
   },
   "outputs": [],
   "source": [
    "df.loc[:, [\"Sobreviveu\", \"Idade\"]]"
   ]
  },
  {
   "cell_type": "markdown",
   "metadata": {
    "id": "VDSt5vAgS_m4"
   },
   "source": [
    "   \n",
    "**iloc**: Funciona de maneira similar, porém função iloc seleciona linhas e colunas por seus índices.\n",
    "\n",
    "```Python\n",
    "df.iloc[linhas, colunas]\n",
    "```"
   ]
  },
  {
   "cell_type": "code",
   "execution_count": null,
   "metadata": {
    "id": "NzQE8tnOS_m4",
    "outputId": "7e798f09-5b8e-4561-d1ab-bc2b460fd619"
   },
   "outputs": [],
   "source": [
    "df.iloc[:, [0,1]]"
   ]
  },
  {
   "cell_type": "code",
   "execution_count": null,
   "metadata": {
    "id": "PSjsxwSuS_m4",
    "outputId": "cb5f5ab9-92b9-4de7-f718-90515d59ab14"
   },
   "outputs": [],
   "source": [
    "df.iloc[[0,1],:]"
   ]
  },
  {
   "cell_type": "markdown",
   "metadata": {},
   "source": [
    "### Exercício 04 parte 01\n",
    "\n",
    "- Realizar filtro com apenas uma única condição;\n",
    "- Realizar filtro com múltiplas condições;\n",
    "- Selecionar entradas com string específica;\n",
    "- Realizar uma consulta passageiros da segunda e terceira classe;\n",
    "- Obter subamostra do dataset com 30 amostras utilizando o método de slicing;\n",
    "- Utilizar a função loc para obter a idade e sobrevivência do passageiro;\n"
   ]
  },
  {
   "cell_type": "markdown",
   "metadata": {},
   "source": [
    "# Alomoço"
   ]
  },
  {
   "cell_type": "code",
   "execution_count": null,
   "metadata": {},
   "outputs": [],
   "source": [
    "# from IPython.display import IFrame\n",
    "\n",
    "# # GIF link used as IFrame\n",
    "# iframe_url = \"https://giphy.com/embed/7AKbdZiyTx98fPHG0Z\"\n",
    "\n",
    "# # resized output IFrame\n",
    "# IFrame(src=iframe_url, width=300, height=250)"
   ]
  },
  {
   "cell_type": "markdown",
   "metadata": {
    "id": "nES063ppS_m4"
   },
   "source": [
    "### Agrupamento / Agregação\n",
    "\n",
    "Podemos criar um agrupamento de categorias e aplicar uma função às categorias. É um conceito simples, mas é uma técnica extremamente valiosa, amplamente utilizada na ciência de dados. Em projetos reais de ciência de dados, você lidará com grandes quantidades de dados e tentará várias vezes, portanto, para eficiência, usamos o conceito Groupby. O conceito de Groupby é realmente importante por causa de sua capacidade de resumir, agregar e agrupar dados com eficiência.\n",
    "\n",
    "\n",
    "[Fonte](https://acervolima.com/pandas-groupby-resumindo-agregando-e-agrupando-dados-em-python/)"
   ]
  },
  {
   "cell_type": "code",
   "execution_count": null,
   "metadata": {
    "id": "noSCxvLQS_m6",
    "outputId": "fd434c19-19d3-4395-a595-83703e140d1b"
   },
   "outputs": [],
   "source": [
    "# Agrupar passageiros por classe\n",
    "dado_agrupado = df.groupby('Classe')\n",
    "\n",
    "# Contagem de passageiros em cada classe, usando os dados agrupados no passo anterior\n",
    "contagem_passageiros = dado_agrupado['IdPassageiro'].count()\n",
    "\n",
    "print(\"Contagem de passageiros\")\n",
    "print(contagem_passageiros)"
   ]
  },
  {
   "cell_type": "code",
   "execution_count": null,
   "metadata": {
    "id": "UxbPOZJfS_m7",
    "outputId": "f2031638-fbad-45b1-94a6-1415795d6800"
   },
   "outputs": [],
   "source": [
    "# Média de Idade de passageiros em cada classe\n",
    "media_idade = dado_agrupado['Idade'].mean()\n",
    "\n",
    "print(\"Média de Idade de passageiros por classe\")\n",
    "print(media_idade)"
   ]
  },
  {
   "cell_type": "code",
   "execution_count": null,
   "metadata": {
    "id": "jxk2rE1hS_m7",
    "outputId": "55e2c10a-49b5-4a8a-f979-162b4bc89e1b"
   },
   "outputs": [],
   "source": [
    "# Obter o valor máximo e mínimo pago por passageiros em cada classe:\n",
    "valor_max = dado_agrupado['PrecoTicket'].max()\n",
    "valor_min = dado_agrupado['PrecoTicket'].min()\n",
    "\n",
    "print(\"Valor máximo do preço da passagem por classe\")\n",
    "print(valor_max)\n",
    "\n",
    "print(\"Valor mínimo do preço da passagem por classe\")\n",
    "print(valor_min)"
   ]
  },
  {
   "cell_type": "markdown",
   "metadata": {},
   "source": [
    "### Exercício 04 parte 02\n",
    "\n",
    "- Agrupar passageiros por classe\n",
    "- Obter a média de idade de passageiros por classe\n",
    "- Obter o valor máximo e mínimo pago por passageiros em cada classe"
   ]
  },
  {
   "cell_type": "markdown",
   "metadata": {
    "id": "6sNCu_PsS_m8"
   },
   "source": [
    "## Pandas: Gerando Gráficos\n",
    "\n",
    "Pandas, em si, não é uma biblioteca de geração de gráficos - o seu segredo é a sua integração com bibliotecas de visualização, permitindo que as suas capacidades de manipulação atuem como ferramentas poderosas para gerar gráficos. Exemplos dessas libs são o Numpy, matplotlib e Seaborn.\n",
    "\n",
    "Pandas permite:\n",
    "- manipulação e preparação de dados\n",
    "- integração com bibliotecas de visualização\n",
    "- seleção de dados\n",
    "- permite fácil combinação de dados provenientes de diferentes datasets"
   ]
  },
  {
   "cell_type": "markdown",
   "metadata": {
    "id": "RM_Xr6IzS_m8"
   },
   "source": [
    "### Pandas + Matplotlib"
   ]
  },
  {
   "cell_type": "markdown",
   "metadata": {
    "id": "Iab5GB_jURLN"
   },
   "source": [
    "Matplotlib, por sua vez, é uma biblioteca Python dedicada à visualização de dados. As figuras geradas, muitas vezes após tratamento de dados utilizando Pandas, são passíveis de fácil edição e customização via código e podem ser facilmente exportadas para outros formatos (inclusive de alta qualidade).\n",
    "\n",
    "Basicamente, a lib monta o gráfico a partir de seus dados em uma 'Figura' que pode conter um ou mais 'Eixos', que definem uma área onde pontos (relativos aos dados) podem ser delimitados.\n",
    "\n",
    "\n",
    "[Fonte](https://matplotlib.org/)\n",
    "\n",
    "[Fonte](https://matplotlib.org/stable/tutorials/introductory/quick_start.html)"
   ]
  },
  {
   "cell_type": "code",
   "execution_count": null,
   "metadata": {
    "colab": {
     "base_uri": "https://localhost:8080/",
     "height": 448
    },
    "id": "KS8389rdXMEu",
    "outputId": "386b4ea1-0ef0-4e2a-891a-e1ea0dee0ed5"
   },
   "outputs": [],
   "source": [
    "#exemplo mais simples de gráfico:\n",
    "\n",
    "import matplotlib.pyplot as plt\n",
    "\n",
    "\n",
    "fig, ax = plt.subplots()\n",
    "ax.plot([1, 2, 3, 4], [2, 4, 6, 8]);"
   ]
  },
  {
   "cell_type": "code",
   "execution_count": null,
   "metadata": {},
   "outputs": [],
   "source": [
    "%pip install matplotlib"
   ]
  },
  {
   "cell_type": "markdown",
   "metadata": {
    "id": "j-fE0SiHS_m8"
   },
   "source": [
    "*** OBS: Deixar claro para alunas que matplotlib será visto em semanas seguintes - ele só está sendo introduzido nesse contexto para que possamos gerar gráficos simples com o uso de Pandas ***\n",
    "\n",
    "\n"
   ]
  },
  {
   "cell_type": "code",
   "execution_count": null,
   "metadata": {
    "id": "bmZg5LjvS_nJ",
    "outputId": "f3874a08-9ec1-4235-8db1-2250deeb54ea"
   },
   "outputs": [],
   "source": [
    "# Criação de um gráfico de barras:  matplotlib + Pandas\n",
    "# plot() + bar\n",
    "import matplotlib.pyplot as plt\n",
    "\n",
    "contagem_passageiros = df['Classe'].value_counts()\n",
    "contagem_passageiros.plot(kind='bar')\n",
    "\n"
   ]
  },
  {
   "cell_type": "code",
   "execution_count": null,
   "metadata": {
    "id": "zpZmI2e9S_nJ",
    "outputId": "3f16a4f4-3039-4426-ac46-d0f8178d87a6"
   },
   "outputs": [],
   "source": [
    "contagem_passageiros = df['Classe'].value_counts()\n",
    "contagem_passageiros.plot(kind='bar')\n",
    "\n",
    "plt.xlabel('Classe do Passageiro')\n",
    "plt.ylabel('Quantidade')\n",
    "plt.title('Número de Passageiros por Classe')"
   ]
  },
  {
   "cell_type": "code",
   "execution_count": null,
   "metadata": {
    "id": "j7lUqI3BS_nK",
    "outputId": "758058f2-185d-412d-835e-38d8ca773f3e"
   },
   "outputs": [],
   "source": [
    "# Criando um gráfico de barras para calcular a taxa de sobrevivência por sexo\n",
    "# plot.bar()\n",
    "\n",
    "\n",
    "taxa_sob_sexo = df.groupby('Sexo')['Sobreviveu'].mean()\n",
    "taxa_sob_sexo.plot.bar()\n",
    "\n",
    "plt.xlabel('Sexo')\n",
    "plt.ylabel('Taxa de Sobrevivência')\n",
    "plt.title('Taxa de Sobrevivência por Sexo')\n",
    "\n",
    "plt.show()"
   ]
  },
  {
   "cell_type": "code",
   "execution_count": null,
   "metadata": {
    "id": "RzV9cvoOS_nK",
    "outputId": "eea06c73-5805-427d-f2b1-b82d3481b8a8"
   },
   "outputs": [],
   "source": [
    "# Criando um histograma com a distribuição de idade em passageiros do Titanic\n",
    "\n",
    "df['Idade'].plot.hist(bins=10, edgecolor='pink')\n",
    "\n",
    "plt.xlabel('Idade')\n",
    "plt.ylabel('Quantidade')\n",
    "plt.title('Distribuição de Idade')"
   ]
  },
  {
   "cell_type": "markdown",
   "metadata": {},
   "source": [
    "### Exercício 05\n",
    "\n",
    "- Gerar 3 gráficos com ideias de interesses\n"
   ]
  },
  {
   "cell_type": "markdown",
   "metadata": {
    "id": "kdYYrD87S_nK"
   },
   "source": [
    "## Pandas: Gerando Gráficos\n",
    "\n",
    "### Pandas: Pandas + Numpy (funções básicas do numpy)\n",
    "\n",
    "[Numpy for absolute beginners](https://numpy.org/doc/stable/user/absolute_beginners.html)"
   ]
  },
  {
   "cell_type": "markdown",
   "metadata": {
    "id": "96dXic7LS_nL"
   },
   "source": [
    "#### Biblioteca Numpy\n",
    "\n",
    "A biblioteca Numpy é uma biblioteca de computação científica cuja principal estrutura de dados são os arrays (similares a listas, porém de mais rápido processamento) e que oferece funções para cálculos com matrizes e álgebra linear, sendo uma das bibliotecas mais importantes para cientistas de dados.\n",
    "\n",
    "O foco dessa aula não é o Numpy, mas existem exemplos na parte de Pandas que contam com a biblioteca - apenas apresentar o conceito, mas dizer que assunto será retomado na aula seguinte."
   ]
  },
  {
   "cell_type": "code",
   "execution_count": null,
   "metadata": {
    "id": "6qrRb5EIS_nL"
   },
   "outputs": [],
   "source": [
    "import pandas as pd\n",
    "import numpy as np"
   ]
  },
  {
   "cell_type": "markdown",
   "metadata": {
    "id": "FCrGZFGoS_nL"
   },
   "source": [
    "Numpy arrays permitem a utilização de diferentes operações,tornando-os uma estrutura de dados útil em manipulação de dados:\n",
    " - Seleção de elementos de array\n",
    " - Slicing de arrays\n",
    " - Divisão de arrays\n",
    " - Reshaping de arrays\n",
    " - Combinação de arrays\n",
    " - Operações Numéricas (min, max, media, etc)\n",
    "\n",
    "Numpy e Pandas são comumente utilizados para análise e manipulação de dados."
   ]
  },
  {
   "cell_type": "code",
   "execution_count": null,
   "metadata": {
    "id": "suI74yqZS_nL",
    "outputId": "eb87a166-4d92-4068-e5ad-e7ce283ed244"
   },
   "outputs": [],
   "source": [
    "# Conversão de lista (estrutura de dados Python) para um array unidimensional com  uma linha e quatro colunas:\n",
    "lista_1 = [1, 2, 3, 4, 5]\n",
    "\n",
    "array_1 = np.array(lista_1)\n",
    "\n",
    "\n",
    "print(lista_1)\n",
    "print(array_1)"
   ]
  },
  {
   "cell_type": "code",
   "execution_count": null,
   "metadata": {
    "id": "DxCmoOkhS_nM",
    "outputId": "2c7699a1-519f-4b81-d4e1-836895767375"
   },
   "outputs": [],
   "source": [
    "# Array bidimensional de uma lista Python (uma lista contendo listas)\n",
    "\n",
    "lista_2 = [[1,2,3],[4,5,6]]\n",
    "\n",
    "array_2 = np.array(lista_2)\n",
    "\n",
    "\n",
    "print(lista_2)\n",
    "print(array_2)"
   ]
  },
  {
   "cell_type": "code",
   "execution_count": null,
   "metadata": {
    "id": "KZ-JzM6US_nM",
    "outputId": "9c7580bf-627b-4926-ed86-8441bb436861"
   },
   "outputs": [],
   "source": [
    "# operações matemáticas podem ser realizadas em todos os valores de um array Numpy de uma vez (impossível em listas python sem loops)\n",
    "\n",
    "# loja com preços\n",
    "array_precos = np.array([12,22,32,42,52])\n",
    "\n",
    "# queremos entrar em liquidação diminuindo 2 reais no preço de cada item\n",
    "array_promocional = array_precos - 2\n",
    "print(array_promocional)\n"
   ]
  },
  {
   "cell_type": "code",
   "execution_count": null,
   "metadata": {
    "id": "SWy82LKAS_nM",
    "outputId": "ee7e4c2e-5553-405f-cbdf-878534650298"
   },
   "outputs": [],
   "source": [
    "# se fosse uma lista Python, seria impossível pois retornaria um TypeError\n",
    "lista_precos = [12,22,32,42,52]\n",
    "\n",
    "lista_promocial = lista_precos - 2\n"
   ]
  },
  {
   "cell_type": "markdown",
   "metadata": {
    "id": "v6P70zdwS_nM"
   },
   "source": [
    "Séries são similares aos arrays NumPy, mas possuem mais funcionalidades que permitem que seus valores possam ser indexados e rotulados. Esses rótulos são úteis quando estamos utilizando porções de dados que possuem outros dados associados a eles.\n"
   ]
  },
  {
   "cell_type": "code",
   "execution_count": null,
   "metadata": {
    "id": "LljyqgRgS_nM",
    "outputId": "17c514e4-0fa0-4d36-c6f8-46293589ce4b"
   },
   "outputs": [],
   "source": [
    "# Criando Séries em Pandas usando um array numpy:\n",
    "\n",
    "precos = np.array([100,200,300])\n",
    "serie_precos = pd.Series(precos)\n",
    "\n",
    "serie_precos"
   ]
  },
  {
   "cell_type": "code",
   "execution_count": null,
   "metadata": {
    "id": "4m4a1TDIS_nN",
    "outputId": "d60ac614-bd45-430f-d375-bafdf4252478"
   },
   "outputs": [],
   "source": [
    "# criando série e customizando índices da série\n",
    "\n",
    "serie_precos_produtos = pd.Series(precos,index=['Bala', 'Chocolate', 'Bolo'])\n",
    "\n",
    "serie_precos_produtos"
   ]
  },
  {
   "cell_type": "code",
   "execution_count": null,
   "metadata": {
    "id": "ZxBABq3pS_nN",
    "outputId": "d11786b2-ac75-43da-9ce9-5e3c8d3869d4"
   },
   "outputs": [],
   "source": [
    "# Criando DataFrames Pandas com arrays Numpy:\n",
    "\n",
    "lista_2 = [[1,2,3],[4,5,6]]\n",
    "array_2 = np.array(lista_2)\n",
    "\n",
    "df = pd.DataFrame(array_2, columns=['A', 'B', 'C'])\n",
    "\n",
    "df"
   ]
  },
  {
   "cell_type": "code",
   "execution_count": null,
   "metadata": {
    "id": "LHfl6fALS_nN",
    "outputId": "5805c47a-4db3-4a7f-8790-dad45dc7ff76"
   },
   "outputs": [],
   "source": [
    "# Operações matemáticas podem ser realizadas em séries e Dataframes Pandas usando funções do numpy\n",
    "\n",
    "lista_1 = [1, 2, 3, 4, 5]\n",
    "\n",
    "array_1 = np.array(lista_1)\n",
    "serie_precos = pd.Series(array_1)\n",
    "\n",
    "serie_precos_ao_quadrado = np.square(serie_precos)\n",
    "\n",
    "serie_precos_ao_quadrado"
   ]
  },
  {
   "cell_type": "markdown",
   "metadata": {},
   "source": [
    "### Exercício 06\n",
    "\n",
    "- Gerar arrays de números aleatórios de com tamanho de 5, 50 e 500 elementos\n",
    "- Criar um DF Pandas a partir de um array numpy criado de uma lista Python\n",
    "- Utilize métodos do Numpy e séries de Pandas para dobrar os números da lista a seguir"
   ]
  }
 ],
 "metadata": {
  "colab": {
   "provenance": []
  },
  "kernelspec": {
   "display_name": "Python 3 (ipykernel)",
   "language": "python",
   "name": "python3"
  },
  "language_info": {
   "codemirror_mode": {
    "name": "ipython",
    "version": 3
   },
   "file_extension": ".py",
   "mimetype": "text/x-python",
   "name": "python",
   "nbconvert_exporter": "python",
   "pygments_lexer": "ipython3",
   "version": "3.11.4"
  }
 },
 "nbformat": 4,
 "nbformat_minor": 4
}
